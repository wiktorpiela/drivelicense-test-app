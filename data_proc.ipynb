{
 "cells": [
  {
   "cell_type": "code",
   "execution_count": null,
   "metadata": {},
   "outputs": [],
   "source": [
    "import pandas as pd\n",
    "import numpy as np\n",
    "import os"
   ]
  },
  {
   "cell_type": "code",
   "execution_count": 7,
   "metadata": {},
   "outputs": [],
   "source": [
    "localPath = os.getcwd()\n",
    "inputPath = localPath + \"\\\\xlsx_files\\\\\"\n",
    "files = os.listdir(inputPath)\n",
    "outputPath = localPath + \"\\\\csv_files\\\\\""
   ]
  },
  {
   "cell_type": "code",
   "execution_count": 9,
   "metadata": {},
   "outputs": [],
   "source": [
    "for x in range(len(files)):\n",
    "    temp_df = pd.read_excel(inputPath+\"/\"+files[x])\n",
    "\n",
    "    if files[x] == \"questiondb.xlsx\":\n",
    "        temp_df[\"media\"] = temp_df[\"media\"].fillna(-1).astype(\"int\").astype(\"str\").replace(\"-1\", None)\n",
    "        temp_df[\"abc_answers\"] = temp_df[\"abc_answers\"].fillna(-1).astype(\"int\").astype(\"str\").replace(\"-1\", None)\n",
    "\n",
    "    temp_df.to_csv(outputPath+files[x].replace(\".xlsx\", \".csv\"), index=False)"
   ]
  },
  {
   "attachments": {},
   "cell_type": "markdown",
   "metadata": {},
   "source": [
    "### ad-hoc processing"
   ]
  },
  {
   "cell_type": "code",
   "execution_count": 4,
   "metadata": {},
   "outputs": [],
   "source": [
    "source = pd.read_excel(r\"C:\\Users\\wpiel\\OneDrive\\Desktop\\legal_source.xlsx\", sheet_name=\"Arkusz1\")\n",
    "uni = pd.read_excel(r\"C:\\Users\\wpiel\\OneDrive\\Desktop\\legal_source.xlsx\", sheet_name=\"Arkusz2\")"
   ]
  },
  {
   "cell_type": "code",
   "execution_count": 7,
   "metadata": {},
   "outputs": [],
   "source": [
    "final = pd.merge(\n",
    "    source,\n",
    "    uni,\n",
    "    how=\"left\",\n",
    "    left_on=\"Źródło pytania\",\n",
    "    right_on=\"legal\"\n",
    ")"
   ]
  }
 ],
 "metadata": {
  "kernelspec": {
   "display_name": "env",
   "language": "python",
   "name": "python3"
  },
  "language_info": {
   "codemirror_mode": {
    "name": "ipython",
    "version": 3
   },
   "file_extension": ".py",
   "mimetype": "text/x-python",
   "name": "python",
   "nbconvert_exporter": "python",
   "pygments_lexer": "ipython3",
   "version": "3.10.7"
  },
  "orig_nbformat": 4
 },
 "nbformat": 4,
 "nbformat_minor": 2
}
